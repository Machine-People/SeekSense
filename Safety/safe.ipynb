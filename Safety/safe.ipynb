{
 "cells": [
  {
   "cell_type": "markdown",
   "metadata": {},
   "source": [
    "# Multilingual Content Safety Guardrail\n",
    "This notebook implements a binary classifier to detect harmful content vs e-commerce queries in multiple languages."
   ]
  },
  {
   "cell_type": "code",
   "execution_count": null,
   "metadata": {},
   "source": [
    "# Install required packages\n",
    "!pip install transformers torch pandas scikit-learn datasets accelerate>=0.26.0"
   ]
  },
  {
   "cell_type": "code",
   "execution_count": null,
   "metadata": {},
   "source": [
    "import torch\n",
    "from transformers import AutoTokenizer, AutoModelForSequenceClassification\n",
    "import numpy as np"
   ]
  },
  {
   "cell_type": "markdown",
   "metadata": {},
   "source": [
    "## Load Pre-trained Model\n",
    "We'll use the multilingual BERT model that can understand multiple languages."
   ]
  },
  {
   "cell_type": "code",
   "execution_count": null,
   "metadata": {},
   "source": [
    "# Load pre-trained multilingual model\n",
    "model_name = \"nlptown/bert-base-multilingual-uncased-sentiment\"\n",
    "tokenizer = AutoTokenizer.from_pretrained(model_name)\n",
    "model = AutoModelForSequenceClassification.from_pretrained(\n",
    "    model_name, \n",
    "    num_labels=2,\n",
    "    ignore_mismatched_sizes=True  # Required when changing number of labels\n",
    ")"
   ]
  },
  {
   "cell_type": "markdown",
   "metadata": {},
   "source": [
    "## Sample Dataset\n",
    "We'll create a small dataset with examples of e-commerce and harmful content in multiple languages."
   ]
  },
  {
   "cell_type": "code",
   "execution_count": null,
   "metadata": {},
   "source": [
    "# Sample dataset with examples in English and other languages\n",
    "train_texts = [\n",
    "    # E-commerce examples (label 0)\n",
    "    \"where can I find the best deals on laptops\",\n",
    "    \"shopping cart checkout process\",\n",
    "    \"best online shopping deals\",\n",
    "    \"অনলাইনে জুতা কিনতে চাই\",  # Want to buy shoes online (Bengali)\n",
    "    \"comprar zapatos en línea\",  # Buy shoes online (Spanish)\n",
    "    \"acheter des vêtements en ligne\",  # Buy clothes online (French)\n",
    "    \n",
    "    # Harmful content examples (label 1)\n",
    "    \"how to hack into someone's account\",\n",
    "    \"ways to steal credit card information\",\n",
    "    \"কিভাবে সিস্টেম হ্যাক করা যায়\",  # How to hack system (Bengali)\n",
    "    \"ডেটা চুরি করার উপায়\",  # Ways to steal data (Bengali)\n",
    "    \"cómo hackear una cuenta\",  # How to hack an account (Spanish)\n",
    "    \"comment pirater un système\"  # How to hack a system (French)\n",
    "]\n",
    "\n",
    "train_labels = [0, 0, 0, 0, 0, 0, 1, 1, 1, 1, 1, 1]  # 0: e-commerce, 1: harmful"
   ]
  },
  {
   "cell_type": "markdown",
   "metadata": {},
   "source": [
    "## Fine-tune the Model\n",
    "We'll fine-tune the model on our dataset to classify content."
   ]
  },
  {
   "cell_type": "code",
   "execution_count": null,
   "metadata": {},
   "source": [
    "from transformers import Trainer, TrainingArguments\n",
    "from datasets import Dataset\n",
    "\n",
    "# Prepare dataset\n",
    "train_encodings = tokenizer(train_texts, truncation=True, padding=True)\n",
    "train_dataset = Dataset.from_dict({\n",
    "    'input_ids': train_encodings['input_ids'],\n",
    "    'attention_mask': train_encodings['attention_mask'],\n",
    "    'labels': train_labels\n",
    "})\n",
    "\n",
    "# Set up training arguments\n",
    "training_args = TrainingArguments(\n",
    "    output_dir='./results',\n",
    "    num_train_epochs=5,\n",
    "    per_device_train_batch_size=4,\n",
    "    warmup_steps=100,\n",
    "    weight_decay=0.01,\n",
    "    logging_dir='./logs',\n",
    "    logging_steps=10,\n",
    "    save_strategy=\"epoch\",\n",
    ")\n",
    "\n",
    "# Initialize trainer\n",
    "trainer = Trainer(\n",
    "    model=model,\n",
    "    args=training_args,\n",
    "    train_dataset=train_dataset,\n",
    ")\n",
    "\n",
    "# Fine-tune the model\n",
    "trainer.train()"
   ]
  },
  {
   "cell_type": "markdown",
   "metadata": {},
   "source": [
    "## Create a Simple Classifier Function\n",
    "This function will classify new text as either e-commerce or harmful."
   ]
  },
  {
   "cell_type": "code",
   "execution_count": null,
   "metadata": {},
   "source": [
    "def classify_content(text):\n",
    "    # Prepare the text for the model\n",
    "    inputs = tokenizer(text, return_tensors=\"pt\", truncation=True, padding=True)\n",
    "    \n",
    "    # Get model prediction\n",
    "    with torch.no_grad():\n",
    "        outputs = model(**inputs)\n",
    "        predictions = torch.softmax(outputs.logits, dim=-1)\n",
    "        predicted_class = torch.argmax(predictions, dim=-1).item()\n",
    "    \n",
    "    # Get confidence score\n",
    "    confidence = predictions[0][predicted_class].item()\n",
    "    \n",
    "    # Return classification and confidence\n",
    "    result = {\n",
    "        \"text\": text,\n",
    "        \"classification\": \"E-commerce\" if predicted_class == 0 else \"Harmful\",\n",
    "        \"confidence\": f\"{confidence:.2%}\"\n",
    "    }\n",
    "    \n",
    "    return result"
   ]
  },
  {
   "cell_type": "markdown",
   "metadata": {},
   "source": [
    "## Test the Classifier\n",
    "Let's test our classifier on some examples."
   ]
  },
  {
   "cell_type": "code",
   "execution_count": null,
   "metadata": {},
   "source": [
    "# Test examples\n",
    "test_examples = [\n",
    "    \"I want to buy a new smartphone\",\n",
    "    \"How to hack into a bank account\",\n",
    "    \"Best deals on electronics\",\n",
    "    \"আমি অনলাইনে কিনতে চাই\",  # I want to buy online (Bengali)\n",
    "    \"কিভাবে পাসওয়ার্ড হ্যাক করা যায়\",  # How to hack passwords (Bengali)\n",
    "    \"quiero comprar zapatos\",  # I want to buy shoes (Spanish)\n",
    "    \"cómo robar información\",  # How to steal information (Spanish)\n",
    "]\n",
    "\n",
    "for example in test_examples:\n",
    "    result = classify_content(example)\n",
    "    print(f\"Text: {result['text']}\")\n",
    "    print(f\"Classification: {result['classification']}\")\n",
    "    print(f\"Confidence: {result['confidence']}\")\n",
    "    print(\"-\" * 50)"
   ]
  },
  {
   "cell_type": "markdown",
   "metadata": {},
   "source": [
    "## Create a Content Safety Guardrail\n",
    "This function will act as a guardrail to filter out harmful content."
   ]
  },
  {
   "cell_type": "code",
   "execution_count": null,
   "metadata": {},
   "source": [
    "def content_safety_guardrail(text, threshold=0.7):\n",
    "    \"\"\"Filter content based on safety classification\n",
    "    \n",
    "    Args:\n",
    "        text: The text to classify\n",
    "        threshold: Confidence threshold for blocking content (default: 0.7)\n",
    "        \n",
    "    Returns:\n",
    "        dict: Result with safety status and reason\n",
    "    \"\"\"\n",
    "    # Get classification\n",
    "    inputs = tokenizer(text, return_tensors=\"pt\", truncation=True, padding=True)\n",
    "    \n",
    "    with torch.no_grad():\n",
    "        outputs = model(**inputs)\n",
    "        predictions = torch.softmax(outputs.logits, dim=-1)\n",
    "        harmful_score = predictions[0][1].item()  # Score for harmful class\n",
    "    \n",
    "    # Determine if content should be blocked\n",
    "    if harmful_score >= threshold:\n",
    "        return {\n",
    "            \"text\": text,\n",
    "            \"allowed\": False,\n",
    "            \"reason\": f\"Content classified as harmful with {harmful_score:.2%} confidence\",\n",
    "            \"harmful_score\": f\"{harmful_score:.2%}\"\n",
    "        }\n",
    "    else:\n",
    "        return {\n",
    "            \"text\": text,\n",
    "            \"allowed\": True,\n",
    "            \"reason\": \"Content appears to be safe\",\n",
    "            \"harmful_score\": f\"{harmful_score:.2%}\"\n",
    "        }\n",
    "\n",
    "# Test the guardrail\n",
    "guardrail_examples = [\n",
    "    \"I want to buy a new phone online\",\n",
    "    \"How to hack into someone's email\",\n",
    "    \"Best deals on summer clothing\",\n",
    "    \"How to steal credit card information\"\n",
    "]\n",
    "\n",
    "for example in guardrail_examples:\n",
    "    result = content_safety_guardrail(example)\n",
    "    print(f\"Text: {result['text']}\")\n",
    "    print(f\"Allowed: {result['allowed']}\")\n",
    "    print(f\"Reason: {result['reason']}\")\n",
    "    print(f\"Harmful Score: {result['harmful_score']}\")\n",
    "    print(\"-\" * 50)"
   ]
  },
  {
   "cell_type": "markdown",
   "metadata": {},
   "source": [
    "## Save the Model\n",
    "Save the fine-tuned model for future use."
   ]
  },
  {
   "cell_type": "code",
   "execution_count": null,
   "metadata": {},
   "source": [
    "# Save the model and tokenizer\n",
    "model.save_pretrained('./content_safety_model')\n",
    "tokenizer.save_pretrained('./content_safety_model')\n",
    "print(\"Model saved successfully!\")"
   ]
  }
 ],
 "metadata": {
  "kernelspec": {
   "display_name": "Python 3",
   "language": "python",
   "name": "python3"
  },
  "language_info": {
   "codemirror_mode": {
    "name": "ipython",
    "version": 3
   },
   "file_extension": ".py",
   "mimetype": "text/x-python",
   "name": "python",
   "nbconvert_exporter": "python",
   "pygments_lexer": "ipython3",
   "version": "3.11.1"
  }
 },
 "nbformat": 4,
 "nbformat_minor": 4
}